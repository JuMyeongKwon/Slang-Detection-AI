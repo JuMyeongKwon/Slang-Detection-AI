{
  "cells": [
    {
      "cell_type": "markdown",
      "source": [
        "# **CNN 모델**"
      ],
      "metadata": {
        "id": "lljVPhnN_aHe"
      }
    },
    {
      "cell_type": "code",
      "execution_count": null,
      "metadata": {
        "colab": {
          "base_uri": "https://localhost:8080/"
        },
        "id": "QBoJX7ltl4BH",
        "outputId": "accda927-835e-42c0-a698-340288e47956"
      },
      "outputs": [
        {
          "name": "stdout",
          "output_type": "stream",
          "text": [
            "Mounted at /content/drive\n"
          ]
        }
      ],
      "source": [
        "from google.colab import drive\n",
        "drive.mount('/content/drive')"
      ]
    },
    {
      "cell_type": "markdown",
      "source": [
        "## 데이터 전처리"
      ],
      "metadata": {
        "id": "-MHqcJPZ_uwT"
      }
    },
    {
      "cell_type": "code",
      "execution_count": null,
      "metadata": {
        "id": "QJs935qql7BE"
      },
      "outputs": [],
      "source": [
        "#train data 불러오기\n",
        "import pandas as pd\n",
        "filename = '/content/drive/My Drive/ai_programming/train_data.csv'\n",
        "data = pd.read_csv(filename)"
      ]
    },
    {
      "cell_type": "code",
      "source": [
        "####이진 분류의 경우의 라벨인코딩(욕설을 1, 나머지는 0)\n",
        "data.loc[(data['type'] == \"IMMORAL_NONE\"), 'type'] = 0 #도덕, 무도덕 => 0\n",
        "data.loc[(data['type'] == \"DISCRIMINATION\"), 'type'] = 0 #차별 => 0\n",
        "data.loc[(data['type'] == \"SEXUAL\"), 'type'] = 0 #선정 => 0\n",
        "data.loc[(data['type'] == \"VIOLENCE\"), 'type'] = 0 #폭력 => 0\n",
        "data.loc[(data['type'] == \"ABUSE\"), 'type'] = 1 #욕설 => 1"
      ],
      "metadata": {
        "id": "RqoHdU9W_o1Z"
      },
      "execution_count": null,
      "outputs": []
    },
    {
      "cell_type": "code",
      "source": [
        "####다중 분류의 경우의 라벨인코딩\n",
        "data.loc[(data['type'] == \"IMMORAL_NONE\"), 'type'] = 0 #도덕, 무도덕 => 0\n",
        "data.loc[(data['type'] == \"DISCRIMINATION\"), 'type'] = 1 #차별 => 1\n",
        "data.loc[(data['type'] == \"SEXUAL\"), 'type'] = 2 #선정 => 2\n",
        "data.loc[(data['type'] == \"VIOLENCE\"), 'type'] = 3 #폭력 => 3\n",
        "data.loc[(data['type'] == \"ABUSE\"), 'type'] = 4 #욕설 => 4"
      ],
      "metadata": {
        "id": "xHTxK8Dm_sGg"
      },
      "execution_count": null,
      "outputs": []
    },
    {
      "cell_type": "code",
      "source": [
        "data['type'] = data['type'].astype(int)"
      ],
      "metadata": {
        "id": "mPNNnxlH_rUP"
      },
      "execution_count": null,
      "outputs": []
    },
    {
      "cell_type": "code",
      "execution_count": null,
      "metadata": {
        "id": "oc-xJYx6mIKd"
      },
      "outputs": [],
      "source": [
        "#val data 불러오기\n",
        "filename = '/content/drive/My Drive/ai_programming/val_data.csv'\n",
        "data2 = pd.read_csv(filename)"
      ]
    },
    {
      "cell_type": "code",
      "source": [
        "####이진 분류일 경우의 라벨인코딩(욕설을 1, 나머지는 0)\n",
        "data2.loc[(data2['type'] == \"IMMORAL_NONE\"), 'type'] = 0 #도덕, 무도덕 => 0\n",
        "data2.loc[(data2['type'] == \"DISCRIMINATION\"), 'type'] = 0 #차별 => 0\n",
        "data2.loc[(data2['type'] == \"SEXUAL\"), 'type'] = 0 #선정 => 0\n",
        "data2.loc[(data2['type'] == \"VIOLENCE\"), 'type'] = 0 #폭력 => 0\n",
        "data2.loc[(data2['type'] == \"ABUSE\"), 'type'] = 1 #욕설 => 1"
      ],
      "metadata": {
        "id": "V7DUL4f-AbLB"
      },
      "execution_count": null,
      "outputs": []
    },
    {
      "cell_type": "code",
      "source": [
        "####다중 분류일 경우의 라벨인코딩\n",
        "data2.loc[(data2['type'] == \"IMMORAL_NONE\"), 'type'] = 0 #도덕, 무도덕 => 0\n",
        "data2.loc[(data2['type'] == \"DISCRIMINATION\"), 'type'] = 1 #차별 => 1\n",
        "data2.loc[(data2['type'] == \"SEXUAL\"), 'type'] = 2 #선정 => 2\n",
        "data2.loc[(data2['type'] == \"VIOLENCE\"), 'type'] = 3 #폭력 => 3\n",
        "data2.loc[(data2['type'] == \"ABUSE\"), 'type'] = 4 #욕설 => 4"
      ],
      "metadata": {
        "id": "w_8YROMBAarR"
      },
      "execution_count": null,
      "outputs": []
    },
    {
      "cell_type": "code",
      "source": [
        "data2['type'] = data2['type'].astype(int)"
      ],
      "metadata": {
        "id": "18-D6sC4Ah0k"
      },
      "execution_count": null,
      "outputs": []
    },
    {
      "cell_type": "code",
      "execution_count": null,
      "metadata": {
        "id": "Of5BeMJ31-gk"
      },
      "outputs": [],
      "source": [
        "#input과 target으로 나누기\n",
        "x_train = data['text']\n",
        "y_train = data['type']\n",
        "x_val = data2['text']\n",
        "y_val = data2['type']"
      ]
    },
    {
      "cell_type": "code",
      "execution_count": null,
      "metadata": {
        "id": "njjekR-t7M-T"
      },
      "outputs": [],
      "source": [
        "#토큰화\n",
        "import numpy as np\n",
        "from tensorflow.keras.preprocessing.text import Tokenizer\n",
        "\n",
        "tokenizer = Tokenizer()\n",
        "tokenizer.fit_on_texts(x_train)\n",
        "encoded = tokenizer.texts_to_sequences(x_train)"
      ]
    },
    {
      "cell_type": "code",
      "execution_count": null,
      "metadata": {
        "id": "pziNVrB88W9_"
      },
      "outputs": [],
      "source": [
        "tokenizer2 = Tokenizer()\n",
        "tokenizer2.fit_on_texts(x_val)\n",
        "encoded2 = tokenizer2.texts_to_sequences(x_val)"
      ]
    },
    {
      "cell_type": "code",
      "execution_count": null,
      "metadata": {
        "colab": {
          "base_uri": "https://localhost:8080/"
        },
        "id": "3OBLZa3U8cnJ",
        "outputId": "f1729f18-82be-4818-a9a5-aef02c23f78b"
      },
      "outputs": [
        {
          "name": "stdout",
          "output_type": "stream",
          "text": [
            "최대 길이 : 68\n"
          ]
        }
      ],
      "source": [
        "max_len = max(len(item) for item in encoded2)\n",
        "print('최대 길이 :',max_len)"
      ]
    },
    {
      "cell_type": "code",
      "execution_count": null,
      "metadata": {
        "colab": {
          "base_uri": "https://localhost:8080/"
        },
        "id": "W-JGKui976cA",
        "outputId": "e034b907-83e0-4c14-90a4-01cd6f9ec3fb"
      },
      "outputs": [
        {
          "data": {
            "text/plain": [
              "array([[   489,  56338,     50, ...,      0,      0,      0],\n",
              "       [   229,     11,    186, ...,      0,      0,      0],\n",
              "       [ 31713,    108,   4832, ...,      0,      0,      0],\n",
              "       ...,\n",
              "       [   103,      6, 155600, ...,      0,      0,      0],\n",
              "       [     1,    700, 155603, ...,      0,      0,      0],\n",
              "       [    19,      1,    763, ...,      0,      0,      0]])"
            ]
          },
          "execution_count": 12,
          "metadata": {},
          "output_type": "execute_result"
        }
      ],
      "source": [
        "#zero padding\n",
        "for sentence in encoded:\n",
        "    while len(sentence) < max_len:\n",
        "        sentence.append(0)\n",
        "\n",
        "padded_np = np.array(encoded)\n",
        "padded_np"
      ]
    },
    {
      "cell_type": "code",
      "execution_count": null,
      "metadata": {
        "colab": {
          "base_uri": "https://localhost:8080/"
        },
        "id": "tUgrIGeA8-qj",
        "outputId": "61c7cabf-71af-43f2-e4a3-17b4b4f05943"
      },
      "outputs": [
        {
          "data": {
            "text/plain": [
              "array([[   33,  8971,  1026, ...,     0,     0,     0],\n",
              "       [ 2325,    99,  8973, ...,     0,     0,     0],\n",
              "       [   38,   326,  8976, ...,     0,     0,     0],\n",
              "       ...,\n",
              "       [   73,  8873,  4299, ...,     0,     0,     0],\n",
              "       [ 2013, 31825,     5, ...,     0,     0,     0],\n",
              "       [   15, 31828,  1478, ...,     0,     0,     0]])"
            ]
          },
          "execution_count": 13,
          "metadata": {},
          "output_type": "execute_result"
        }
      ],
      "source": [
        "for sentence in encoded2:\n",
        "    while len(sentence) < max_len:\n",
        "        sentence.append(0)\n",
        "\n",
        "padded_np2 = np.array(encoded2)\n",
        "padded_np2"
      ]
    },
    {
      "cell_type": "code",
      "execution_count": null,
      "metadata": {
        "colab": {
          "base_uri": "https://localhost:8080/"
        },
        "id": "ZCwuW9Y4ldax",
        "outputId": "f09f58b8-2f21-4459-9153-795316a98108"
      },
      "outputs": [
        {
          "name": "stdout",
          "output_type": "stream",
          "text": [
            "Model: \"sequential_6\"\n",
            "_________________________________________________________________\n",
            " Layer (type)                Output Shape              Param #   \n",
            "=================================================================\n",
            " embedding_6 (Embedding)     (None, 68, 68)            34000     \n",
            "                                                                 \n",
            " conv1d_6 (Conv1D)           (None, 68, 68)            4692      \n",
            "                                                                 \n",
            " max_pooling1d_6 (MaxPooling  (None, 22, 68)           0         \n",
            " 1D)                                                             \n",
            "                                                                 \n",
            " flatten_6 (Flatten)         (None, 1496)              0         \n",
            "                                                                 \n",
            " dense_12 (Dense)            (None, 100)               149700    \n",
            "                                                                 \n",
            " dense_13 (Dense)            (None, 2)                 202       \n",
            "                                                                 \n",
            "=================================================================\n",
            "Total params: 188,594\n",
            "Trainable params: 188,594\n",
            "Non-trainable params: 0\n",
            "_________________________________________________________________\n"
          ]
        }
      ],
      "source": [
        "from tensorflow import keras\n",
        "from tensorflow.keras.models import Sequential\n",
        "from tensorflow.keras import layers\n",
        "\n",
        "#모델 구축 \n",
        "model = Sequential()\n",
        "model.add(keras.layers.Embedding(500, 68, input_length=max_len)) \n",
        "model.add(layers.Conv1D(68,1, activation='relu')) \n",
        "model.add(layers.MaxPool1D(3))  \n",
        "model.add(layers.Flatten())\n",
        "model.add(layers.Dense(100, activation='relu'))\n",
        "model.add(layers.Dense(2, activation='sigmoid'))\n",
        "model.summary()"
      ]
    },
    {
      "cell_type": "markdown",
      "source": [
        "# 하이퍼 파라미터 튜닝(Grid Search)"
      ],
      "metadata": {
        "id": "-iv2nI69Au2Z"
      }
    },
    {
      "cell_type": "code",
      "execution_count": null,
      "metadata": {
        "id": "mbgJ-AGGN66T"
      },
      "outputs": [],
      "source": [
        "# 그리드 서치의 결과를 출력할 함수 정의\n",
        "def display_cv_results(search_results):\n",
        "    print('Best score = {:.4f} using {}'.format(search_results.best_score_, search_results.best_params_))\n",
        "    means = search_results.cv_results_['mean_test_score']\n",
        "    stds = search_results.cv_results_['std_test_score']\n",
        "    params = search_results.cv_results_['params']\n",
        "    for mean, stdev, param in zip(means, stds, params):\n",
        "        print('mean test accuracy +/- std = {:.4f} +/- {:.4f} with: {}'.format(mean, stdev, param))    "
      ]
    },
    {
      "cell_type": "code",
      "execution_count": null,
      "metadata": {
        "id": "HjhqK7flNnZr"
      },
      "outputs": [],
      "source": [
        "#start=time()\n",
        "from tensorflow import keras\n",
        "from tensorflow.keras.models import Sequential\n",
        "from tensorflow.keras import layers\n",
        "\n",
        "# KerasClassifier에 요구되는 모델을 생성하는 함수 정의\n",
        "# the function takes drop_out rate as argument so we can optimize it  \n",
        "def create_mlp_model(dropout_rate=0):\n",
        "    # create model\n",
        "    model = Sequential()\n",
        "    model.add(keras.layers.Embedding(500, 68, input_length=max_len)) \n",
        "    model.add(layers.Conv1D(68,1, activation='relu')) \n",
        "    model.add(layers.Flatten())\n",
        "    model.add(layers.Dense(100, activation='relu'))\n",
        "    model.add(layers.Dense(5, activation='sigmoid'))\n",
        "    \n",
        "    # Compile model\n",
        "    model.compile( \n",
        "        optimizer='adam',\n",
        "        loss='categorical_crossentropy',\n",
        "        metrics=['accuracy'],\n",
        "        )    \n",
        "    return model"
      ]
    },
    {
      "cell_type": "code",
      "execution_count": null,
      "metadata": {
        "colab": {
          "background_save": true,
          "base_uri": "https://localhost:8080/"
        },
        "id": "TVTo68b-NA1b",
        "outputId": "addf8856-cb40-494f-e71e-81586229d9e7"
      },
      "outputs": [
        {
          "name": "stderr",
          "output_type": "stream",
          "text": [
            "<ipython-input-31-27f6429b4267>:6: DeprecationWarning: KerasClassifier is deprecated, use Sci-Keras (https://github.com/adriangb/scikeras) instead. See https://www.adriangb.com/scikeras/stable/migration.html for help migrating.\n",
            "  model = KerasClassifier(build_fn=create_mlp_model, verbose=1)\n",
            "/usr/local/lib/python3.8/dist-packages/joblib/externals/loky/process_executor.py:700: UserWarning: A worker stopped while some jobs were given to the executor. This can be caused by a too short worker timeout or by a memory leak.\n",
            "  warnings.warn(\n"
          ]
        },
        {
          "name": "stdout",
          "output_type": "stream",
          "text": [
            "Epoch 1/10\n",
            "891/891 [==============================] - 7s 4ms/step - loss: 1.3717 - accuracy: 0.4270\n",
            "Epoch 2/10\n",
            "891/891 [==============================] - 3s 4ms/step - loss: 1.3040 - accuracy: 0.4641\n",
            "Epoch 3/10\n",
            "891/891 [==============================] - 3s 4ms/step - loss: 1.2924 - accuracy: 0.4690\n",
            "Epoch 4/10\n",
            "891/891 [==============================] - 3s 4ms/step - loss: 1.2857 - accuracy: 0.4715\n",
            "Epoch 5/10\n",
            "891/891 [==============================] - 3s 4ms/step - loss: 1.2792 - accuracy: 0.4745\n",
            "Epoch 6/10\n",
            "891/891 [==============================] - 3s 4ms/step - loss: 1.2747 - accuracy: 0.4759\n",
            "Epoch 7/10\n",
            "891/891 [==============================] - 3s 4ms/step - loss: 1.2691 - accuracy: 0.4783\n",
            "Epoch 8/10\n",
            "891/891 [==============================] - 3s 4ms/step - loss: 1.2633 - accuracy: 0.4797\n",
            "Epoch 9/10\n",
            "891/891 [==============================] - 3s 4ms/step - loss: 1.2588 - accuracy: 0.4834\n",
            "Epoch 10/10\n",
            "891/891 [==============================] - 3s 4ms/step - loss: 1.2541 - accuracy: 0.4839\n",
            "Best score = 0.3132 using {'batch_size': 128, 'epochs': 10}\n",
            "mean test accuracy +/- std = 0.3034 +/- 0.0586 with: {'batch_size': 16, 'epochs': 10}\n",
            "mean test accuracy +/- std = 0.3070 +/- 0.0616 with: {'batch_size': 32, 'epochs': 10}\n",
            "mean test accuracy +/- std = 0.3087 +/- 0.0566 with: {'batch_size': 64, 'epochs': 10}\n",
            "mean test accuracy +/- std = 0.3132 +/- 0.0644 with: {'batch_size': 128, 'epochs': 10}\n"
          ]
        }
      ],
      "source": [
        "from sklearn.model_selection import GridSearchCV\n",
        "from keras.wrappers.scikit_learn import KerasClassifier\n",
        "\n",
        "\n",
        "# create model\n",
        "model = KerasClassifier(build_fn=create_mlp_model, verbose=1)\n",
        "# define parameters and values for grid search \n",
        "param_grid = {\n",
        "    'batch_size': [16, 32, 64, 128],\n",
        "    'epochs': [10]\n",
        "}\n",
        "\n",
        "#Grid Search\n",
        "grid = GridSearchCV(estimator=model, param_grid=param_grid, n_jobs=-1, cv=3)\n",
        "grid_result = grid.fit(padded_np, y_train)  # fit the full dataset as we are using cross validation \n",
        "\n",
        "# print out results\n",
        "display_cv_results(grid_result)"
      ]
    },
    {
      "cell_type": "markdown",
      "source": [
        "-> 최적의 하이퍼 파라미터는 'batch_size': 128, 'epochs': 10 이다."
      ],
      "metadata": {
        "id": "gsZZ0JVRBX0S"
      }
    },
    {
      "cell_type": "markdown",
      "source": [
        "# 모델 훈련"
      ],
      "metadata": {
        "id": "Ha-xSoVqCBSZ"
      }
    },
    {
      "cell_type": "code",
      "execution_count": null,
      "metadata": {
        "colab": {
          "base_uri": "https://localhost:8080/",
          "height": 333
        },
        "id": "BP5DBquJJed9",
        "outputId": "34541518-d93d-43a6-bb75-bcb9108f5581"
      },
      "outputs": [
        {
          "name": "stdout",
          "output_type": "stream",
          "text": [
            "2\n"
          ]
        },
        {
          "data": {
            "image/png": "[encoded data removed]",
            "text/plain": [
              "<Figure size 432x288 with 1 Axes>"
            ]
          },
          "metadata": {},
          "output_type": "display_data"
        },
        {
          "name": "stdout",
          "output_type": "stream",
          "text": [
            "396/396 [==============================] - 1s 3ms/step - loss: 0.1272 - accuracy: 0.8490\n"
          ]
        },
        {
          "data": {
            "text/plain": [
              "[0.12724316120147705, 0.8490327596664429]"
            ]
          },
          "execution_count": 70,
          "metadata": {},
          "output_type": "execute_result"
        }
      ],
      "source": [
        "from tensorflow.keras.optimizers import Adam\n",
        "model.compile(optimizer=Adam(learning_rate=0.0001), loss='mean_squared_error', metrics=['accuracy'])\n",
        "\n",
        "checkpoint_cb = keras.callbacks.ModelCheckpoint('best-model.h5',\n",
        "                                                save_best_only=True)\n",
        "early_stopping_cb = keras.callbacks.EarlyStopping(patience=2,\n",
        "                                                  restore_best_weights=True)\n",
        "\n",
        "history = model.fit(padded_np, y_train, epochs=20, verbose=0, batch_size=64, validation_data=(padded_np2, y_val), callbacks=[checkpoint_cb, early_stopping_cb])\n",
        "\n",
        "print(early_stopping_cb.stopped_epoch)\n",
        "\n",
        "#train, val loss 시각화\n",
        "plt.plot(history.history['loss'])\n",
        "plt.plot(history.history['val_loss'])\n",
        "plt.xlabel('epoch')\n",
        "plt.ylabel('loss')\n",
        "plt.legend(['train', 'val'])\n",
        "plt.show()\n",
        "\n",
        "#성능 확인\n",
        "model.evaluate(padded_np2, y_val)"
      ]
    }
  ],
  "metadata": {
    "accelerator": "GPU",
    "colab": {
      "provenance": []
    },
    "gpuClass": "standard",
    "kernelspec": {
      "display_name": "Python 3",
      "name": "python3"
    },
    "language_info": {
      "name": "python"
    }
  },
  "nbformat": 4,
  "nbformat_minor": 0
}